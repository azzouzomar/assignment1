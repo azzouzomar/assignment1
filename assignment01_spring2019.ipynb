{
 "cells": [
  {
   "cell_type": "markdown",
   "metadata": {},
   "source": [
    "# Assignment 1\n",
    "### General Instructions\n",
    "  + The Python standard library is not enough to solve these questions. You will need to import appropriate libraries for each task. Generally, you might import and use any library you wish unless otherwise stated. \n",
    "  + Where detail instructions like variable or function names, required libraries, and etc are not given by the question, feel free to do it the way you would like to.\n",
    "  + After each question, add the needed number of new cells and place your answers inside the cells. \n",
    "  + When you are required to explain or answer in text format open a Markdown cell and enter your answer in it.\n",
    "  + Do not remove or modify the original cells provided by the instructor.\n",
    "  + In the following cell you are provided with some extra possibilities, like colors RED, OKBLUE, or text styles like BOLD or UNDERLINE that you can use to produce text in the output of your codes. For example, to output text in red you can type the following code: \n",
    "  ```python\n",
    "     print(bcolors.RED + \"your text\" + bcolors.ENDC)\n",
    "  ```\n",
    "  + Comment your code whenever needed using # sign at the beginning of the row.\n",
    "  + For the last question you may need to do some online research since not all the details needed are provided in the question. This especially helps you develop some search skills for coding in Python which is inevitable due to the inconsistent syntax of Python.\n",
    "  + Do not hesitate to communicate your questions to the TA's or instructors. Good luck!  \n",
    "  "
   ]
  },
  {
   "cell_type": "code",
   "execution_count": 1,
   "metadata": {},
   "outputs": [],
   "source": [
    "# The following piece of code gives the opportunity to show multiple outputs\n",
    "# in one cell:\n",
    "from IPython.core.interactiveshell import InteractiveShell\n",
    "InteractiveShell.ast_node_interactivity = \"all\"\n",
    "\n",
    "# Colorful outputs\n",
    "class bcolors:\n",
    "    RED       = '\\033[91m'\n",
    "    OKBLUE    = '\\033[94m'\n",
    "    BOLD      = '\\033[1m'\n",
    "    UNDERLINE = '\\033[4m'\n",
    "    ENDC      = '\\033[0m'"
   ]
  },
  {
   "cell_type": "markdown",
   "metadata": {},
   "source": [
    "## Question 1\n",
    "Write a piece of program that takes as input $2$ lists called `list1` and `list2`. `list1` contains $5$ first names (strings) and `list2` has $3$ first names. `list1` and `list2` may or may not have common names. Then, it returns a third list called `set_difference` which contains those names in `list1` that are not in `list2`.\n",
    "\n",
    "**Example**\n",
    "\n",
    "list1 = $\\{\\mbox{John, Michael, Vanessa, Ahmed, Tiffany}\\}$ <br>\n",
    "list2 = $\\{\\mbox{Cyrus, Vanessa}\\}$ <br>\n",
    "Expected Output : $\\{\\mbox{John, Michael, Ahmed, Tiffany}\\}$\n",
    "\n"
   ]
  },
  {
   "cell_type": "code",
   "execution_count": 2,
   "metadata": {},
   "outputs": [
    {
     "name": "stdout",
     "output_type": "stream",
     "text": [
      "['Tiffany', 'Michael', 'John', 'Ahmed']\n",
      "['John', 'Michael', 'Ahmed', 'Tiffany']\n"
     ]
    }
   ],
   "source": [
    "list1 = ['John', 'Michael', 'Vanessa', 'Ahmed', 'Tiffany']\n",
    "list2 = ['Cyrus', 'Vanessa']\n",
    "\n",
    "# If the order of the output is not important we can use the set method:\n",
    "# By the use of set() method we convert the lists into sets explicitly and then \n",
    "# simply reduce one from the other using the subtract operator. \n",
    "set_difference1 = (list(set(list1) - set(list2)))\n",
    "print(set_difference1)\n",
    "\n",
    "# If the order of the output is important:\n",
    "set_difference2 = [name for name in list1 + list2 if name in list1 and name not in list2] \n",
    "print(set_difference2)"
   ]
  },
  {
   "cell_type": "markdown",
   "metadata": {},
   "source": [
    "## Question 2\n",
    "Write a Python **function** that takes two **positive integers** and returns their **greatest common divisor**. In case you pass a negative integer to the function it must return the following string: \n",
    "     <span style=\"color:red\"> \"This function takes only positive integers!\" </span>"
   ]
  },
  {
   "cell_type": "code",
   "execution_count": 3,
   "metadata": {},
   "outputs": [
    {
     "data": {
      "text/plain": [
       "200"
      ]
     },
     "execution_count": 3,
     "metadata": {},
     "output_type": "execute_result"
    }
   ],
   "source": [
    "# This function implements the Euclidian algorithm to find the GCD of two positive integers\n",
    "\n",
    "def Greatest_Common_Divisor(a, b):\n",
    "    if (a > 0 and b > 0):\n",
    "        while(b):\n",
    "            a, b = b, a % b\n",
    "        return a\n",
    "    else:\n",
    "        print(\"This function takes only positive integers!\")\n",
    "        \n",
    "Greatest_Common_Divisor(200,800)"
   ]
  },
  {
   "cell_type": "markdown",
   "metadata": {},
   "source": [
    "## Question 3\n",
    "Write a function that prints all the prime numbers in the interval $[0,p]$, where $p$ is a parameter to be         passed to the function. "
   ]
  },
  {
   "cell_type": "code",
   "execution_count": 4,
   "metadata": {},
   "outputs": [
    {
     "name": "stdout",
     "output_type": "stream",
     "text": [
      "Please enter your number: 100\n",
      "Prime numbers between 0 and 100 are:\n",
      "2\n",
      "3\n",
      "5\n",
      "7\n",
      "11\n",
      "13\n",
      "17\n",
      "19\n",
      "23\n",
      "29\n",
      "31\n",
      "37\n",
      "41\n",
      "43\n",
      "47\n",
      "53\n",
      "59\n",
      "61\n",
      "67\n",
      "71\n",
      "73\n",
      "79\n",
      "83\n",
      "89\n",
      "97\n"
     ]
    }
   ],
   "source": [
    "# Python program to display all the prime numbers within an interval\n",
    "\n",
    "def Prime_Numbers_Print(p):\n",
    "    print(\"Prime numbers between\",0,\"and\",p,\"are:\")\n",
    "    for value in range(0, p + 1):\n",
    "        if value > 1 :\n",
    "        # prime numbers are greater than 1\n",
    "            for i in range(2, value):\n",
    "                if (value % i) == 0:\n",
    "                    break\n",
    "            else:\n",
    "                print(value)\n",
    "       \n",
    "            \n",
    "p = int(input(\"Please enter your number: \"))\n",
    "Prime_Numbers_Print(p)"
   ]
  },
  {
   "cell_type": "markdown",
   "metadata": {},
   "source": [
    "## Question 4\n",
    "  1. Set seed by the initial value $1231$ and define the following variables (Python objects) with the shown assigned values:\n",
    "    + `size` $\\longleftarrow 1000$,\n",
    "    + `n` $\\longleftarrow 700$,\n",
    "    + `p` $\\longleftarrow 0.3$\n",
    "  2. Randomly generate `size` number of itegers in $(0,200)$ and save them as `col1`.\n",
    "  3. Randomly generate `size` number of values according to $\\mbox{Unif}[0,1]$ and call it `col2`.\n",
    "  4. Randomly generate `2*size` numbers from $\\mbox{Binom}($ `n`,`p` $)$ and randomly select `size` number of them\n",
    "     and save as `col3`.\n",
    "  5. Define the following functions \n",
    "    + $\\texttt{funct1}(x)= \\ln x$\n",
    "    + $\\texttt{funct2}(x)= \\frac{10 \\exp(x)}{1+\\exp(x)}$\n",
    "    + $\\texttt{funct3}(x)= \\frac{350}{100\\sqrt{2\\pi}}.\\exp{\\left(-\\frac{x^2}{20000}\\right)}$\n",
    "  6. Define \n",
    "    + `col4`$=\\texttt{funct1}($ `col1` $)$,\n",
    "    + `col5`$=\\texttt{funct2}($ `col2` $)$, and \n",
    "    + `col6`$=\\texttt{funct3}($ `col3` $)$;\n",
    "  7. Randomly generate `size` number of genders from the set $\\{\\mbox{Female, Male}\\}$ and save them as `col7`.\n",
    "  8. Construct a **data frame** with $7$ columns `col1` to `col7` and call it `mydata`.\n",
    "  8. Describe the dataset using the descriptive statistics discussed in the class.\n",
    "  9. Use the appropriate visualisation tool to visualize each variable in the dataset.\n",
    "  10. Using **loops** scatterplot every pair of columns versus each other if appropriate.\n",
    "  "
   ]
  },
  {
   "cell_type": "code",
   "execution_count": 5,
   "metadata": {},
   "outputs": [
    {
     "data": {
      "text/html": [
       "<div>\n",
       "<style scoped>\n",
       "    .dataframe tbody tr th:only-of-type {\n",
       "        vertical-align: middle;\n",
       "    }\n",
       "\n",
       "    .dataframe tbody tr th {\n",
       "        vertical-align: top;\n",
       "    }\n",
       "\n",
       "    .dataframe thead th {\n",
       "        text-align: right;\n",
       "    }\n",
       "</style>\n",
       "<table border=\"1\" class=\"dataframe\">\n",
       "  <thead>\n",
       "    <tr style=\"text-align: right;\">\n",
       "      <th></th>\n",
       "      <th>col1</th>\n",
       "      <th>col2</th>\n",
       "      <th>col3</th>\n",
       "      <th>col4</th>\n",
       "      <th>col5</th>\n",
       "      <th>col6</th>\n",
       "    </tr>\n",
       "  </thead>\n",
       "  <tbody>\n",
       "    <tr>\n",
       "      <th>count</th>\n",
       "      <td>1000.000000</td>\n",
       "      <td>1000.000000</td>\n",
       "      <td>1000.00000</td>\n",
       "      <td>1000.000000</td>\n",
       "      <td>1000.000000</td>\n",
       "      <td>1000.000000</td>\n",
       "    </tr>\n",
       "    <tr>\n",
       "      <th>mean</th>\n",
       "      <td>100.946000</td>\n",
       "      <td>0.516228</td>\n",
       "      <td>209.88000</td>\n",
       "      <td>4.305920</td>\n",
       "      <td>6.238596</td>\n",
       "      <td>0.158173</td>\n",
       "    </tr>\n",
       "    <tr>\n",
       "      <th>std</th>\n",
       "      <td>58.829278</td>\n",
       "      <td>0.290475</td>\n",
       "      <td>12.12727</td>\n",
       "      <td>0.988062</td>\n",
       "      <td>0.675321</td>\n",
       "      <td>0.040047</td>\n",
       "    </tr>\n",
       "    <tr>\n",
       "      <th>min</th>\n",
       "      <td>1.000000</td>\n",
       "      <td>0.000509</td>\n",
       "      <td>170.00000</td>\n",
       "      <td>0.000000</td>\n",
       "      <td>5.001273</td>\n",
       "      <td>0.069431</td>\n",
       "    </tr>\n",
       "    <tr>\n",
       "      <th>25%</th>\n",
       "      <td>49.000000</td>\n",
       "      <td>0.264004</td>\n",
       "      <td>202.00000</td>\n",
       "      <td>3.891820</td>\n",
       "      <td>5.656202</td>\n",
       "      <td>0.129720</td>\n",
       "    </tr>\n",
       "    <tr>\n",
       "      <th>50%</th>\n",
       "      <td>100.000000</td>\n",
       "      <td>0.522936</td>\n",
       "      <td>209.00000</td>\n",
       "      <td>4.605170</td>\n",
       "      <td>6.278339</td>\n",
       "      <td>0.157202</td>\n",
       "    </tr>\n",
       "    <tr>\n",
       "      <th>75%</th>\n",
       "      <td>153.000000</td>\n",
       "      <td>0.777935</td>\n",
       "      <td>218.00000</td>\n",
       "      <td>5.030438</td>\n",
       "      <td>6.852349</td>\n",
       "      <td>0.181523</td>\n",
       "    </tr>\n",
       "    <tr>\n",
       "      <th>max</th>\n",
       "      <td>200.000000</td>\n",
       "      <td>0.999708</td>\n",
       "      <td>245.00000</td>\n",
       "      <td>5.298317</td>\n",
       "      <td>7.310011</td>\n",
       "      <td>0.329172</td>\n",
       "    </tr>\n",
       "  </tbody>\n",
       "</table>\n",
       "</div>"
      ],
      "text/plain": [
       "              col1         col2        col3         col4         col5  \\\n",
       "count  1000.000000  1000.000000  1000.00000  1000.000000  1000.000000   \n",
       "mean    100.946000     0.516228   209.88000     4.305920     6.238596   \n",
       "std      58.829278     0.290475    12.12727     0.988062     0.675321   \n",
       "min       1.000000     0.000509   170.00000     0.000000     5.001273   \n",
       "25%      49.000000     0.264004   202.00000     3.891820     5.656202   \n",
       "50%     100.000000     0.522936   209.00000     4.605170     6.278339   \n",
       "75%     153.000000     0.777935   218.00000     5.030438     6.852349   \n",
       "max     200.000000     0.999708   245.00000     5.298317     7.310011   \n",
       "\n",
       "              col6  \n",
       "count  1000.000000  \n",
       "mean      0.158173  \n",
       "std       0.040047  \n",
       "min       0.069431  \n",
       "25%       0.129720  \n",
       "50%       0.157202  \n",
       "75%       0.181523  \n",
       "max       0.329172  "
      ]
     },
     "execution_count": 5,
     "metadata": {},
     "output_type": "execute_result"
    },
    {
     "name": "stdout",
     "output_type": "stream",
     "text": [
      "col1    100.000000\n",
      "col2      0.522936\n",
      "col3    209.000000\n",
      "col4      4.605170\n",
      "col5      6.278339\n",
      "col6      0.157202\n",
      "dtype: float64\n"
     ]
    }
   ],
   "source": [
    "import scipy.stats as stats\n",
    "import numpy as np\n",
    "import pandas as pd\n",
    "import math\n",
    "import random\n",
    "\n",
    "random.seed(1231)    \n",
    "\n",
    "class RandomObject:\n",
    "    size = 1000\n",
    "    n = 700\n",
    "    p = 0.3\n",
    "\n",
    "col1 = [random.randint(1, 200) for x in range(RandomObject.size)]\n",
    "col1 = np.array(col1)\n",
    "\n",
    "col2 = stats.uniform.rvs(size = RandomObject.size,  # Generate 1000 numbers\n",
    "                         loc = 0,                   # From 0 \n",
    "                         scale = 1)                 # To 1\n",
    "col2 = np.array(col2)\n",
    "\n",
    "binom = np.random.binomial(RandomObject.n, RandomObject.p, 2*(RandomObject.size))\n",
    "col3 = [random.choice(binom) for z in range(RandomObject.size)]\n",
    "col3 = np.array(col3)\n",
    "\n",
    "def funct1(a):\n",
    "    b = np.log(a)\n",
    "    return b\n",
    "\n",
    "def funct2(a):\n",
    "    b = (10 * np.exp(a)) / (1 + np.exp(a))\n",
    "    return b\n",
    "\n",
    "def funct3(a):\n",
    "    b = (350 / (100 * math.sqrt(2 * math.pi))) * np.exp(-1 * ((np.power(a, 2)) / 20000))\n",
    "    return b\n",
    "    \n",
    "col4 = funct1(col1)\n",
    "col5 = funct2(col2)\n",
    "col6 = funct3(col3)\n",
    "col7 = np.array([random.choice(['Female', 'Male']) for y in range(RandomObject.size)])\n",
    "\n",
    "mydata = pd.DataFrame({'col1': col1, 'col2': col2, 'col3': col3, 'col4': col4, 'col5': col5, 'col6': col6, 'col7': col7})\n",
    "\n",
    "mydata.describe()\n",
    "\n",
    "median_col1_col6 = mydata[['col1', 'col2', 'col3', 'col4', 'col5', 'col6']].median()\n",
    "print(median_col1_col6)"
   ]
  },
  {
   "cell_type": "markdown",
   "metadata": {},
   "source": [
    "## Question 5\n",
    "  1. Assume that $X\\sim N(\\mu,\\sigma^2)$ with $\\mu=55, \\sigma=15$. Randomly generate a set of $1000,000$ values for $X$              according to the given distribution and call it set $D$.\n",
    "  2. Pretend that $D$ is your whole population. Choose a sample of $1000$ values from $D$. \n",
    "  3. Plot an approximate density distribution function using the selected sample. \n",
    "  3. Using a loop repeat the second step $30$ times. For each sample estimate the population mean and save each estimate. Calculate the *mean squared error* of your estimated means.\n",
    "  4. Plot the histogram of all $30$ saved sample means (**Only sample means**). According to the histogram, what is the *sampling distribution* of the mean?\n",
    "  5. If instead of $500$ times, we resample over and over for a large number of times, how does the sample mean change?"
   ]
  },
  {
   "cell_type": "code",
   "execution_count": 121,
   "metadata": {},
   "outputs": [
    {
     "data": {
      "image/png": "[encoded data removed]",
      "text/plain": [
       "<Figure size 432x288 with 1 Axes>"
      ]
     },
     "metadata": {
      "needs_background": "light"
     },
     "output_type": "display_data"
    },
    {
     "data": {
      "image/png": "[encoded data removed]",
      "text/plain": [
       "<Figure size 432x288 with 1 Axes>"
      ]
     },
     "metadata": {
      "needs_background": "light"
     },
     "output_type": "display_data"
    }
   ],
   "source": [
    "import scipy.stats as stats\n",
    "import numpy as np\n",
    "import pandas as pd\n",
    "import math\n",
    "import random\n",
    "\n",
    "random.seed(1231)    \n",
    "\n",
    "mu, sigma = 55, 15 # mean and standard deviation\n",
    "population_n = 1000000\n",
    "sample_n = 1000\n",
    "\n",
    "\n",
    "D = stats.norm.rvs(loc = mu, scale = sigma, size = population_n, random_state = 1231)\n",
    "\n",
    "D_sample = np.random.choice(D, size = sample_n)\n",
    "\n",
    "pd.DataFrame(D_sample).plot(kind=\"density\", figsize=(6,4));\n",
    "\n",
    "means_estimate = []          # Make empty list to hold point estimates\n",
    "\n",
    "for x in range(30):         # Generate 30 samples\n",
    "    sample = np.random.choice(D, size = sample_n)\n",
    "    means_estimate.append(sample.mean())\n",
    "    \n",
    "MSE = D.mean() - np.array(means_estimate).mean()   # Check difference between means\n",
    "pd.DataFrame(means_estimate).hist(bins = 15, range = (min(means_estimate), max(means_estimate)), figsize=(6,4));"
   ]
  },
  {
   "cell_type": "markdown",
   "metadata": {},
   "source": [
    "## Question 6\n",
    "Suppose that we would like to model the event of flipping a coin for $15$ times. If the probability of getting heads equals $0.6$, then answer the following questions. <br>\n",
    "<span style=\"color:red\"> **Do not forget to include your codes.**</span>  \n",
    "  1. Which distribution is it and what are the parameters of the distribution? Is it a discrete or continuous distribution?\n",
    "  2. What is the probability of obtaining $10$ heads? Explain how to calculate it.\n",
    "  3. What is the probability of getting more than or equal to $10$ heads? What about less than or equal to $10$\n",
    "     head? What should be the summation of these two probabilities and why?\n",
    "  4. Find the expected value of obtained number of heads in each trial? (**Each trial consists of $15$ tosses**)\n",
    "  5. How probable is it to get (H,H,H,T,T,H,T,T,H,T,H,H,H,T,H)?\n",
    "  6. Find the first, second, and the third quantiles.\n",
    "  7. Repeat the trial $10$ times and estimate the mean each time. Using `pandas.crosstab` build the frequency table of the results. Plot the histogram of these ten estimates. \n",
    "  8. Now, gradually increase the number of trials from $100$ to $1000$. (start from $100$ and add $50$ each time to reach $1000$.) Plot the histogram for the sample mean each time. How does the sampling distribun of mean is changing?\n",
    "  \n",
    "   "
   ]
  },
  {
   "cell_type": "markdown",
   "metadata": {},
   "source": [
    "1. The appropriate distribution for this event is the binomial distribution which models the outcomes of a given number of random trails of flipping a coin. The binomial distribution is defined by two parameters: the probability of success in any given trial which is equal to 0.6 and the number of trials: 15. The binomial distribution is a discrete probability distribution.\n",
    "\n",
    "2. The binomial distribution tell us in this case how likely it is to achieve a given number of successes (10 heads) in 15 trials. To calculate the probability of obtaining 10 heads we model the event of flipping a coin with a binomial distribution where the number of trials is set to 15 and the probability of success is set to 0.6. In this case the distribution would tell us how likely it is to get 10 heads. To check the probability at a given value for discrete distributions like the binomial, we use the probability mass function which check the mass (proportion of observations) at given number of successes k = 10 heads in our case.\n",
    "\n",
    "3. The binomial distribution is discrete, it only takes on integer values so we can summarize binomial data with a frequency table and its distribution with a histogram. The histogram will shows us later that a binomial distribution with a 60% probability of success won't be symmetric. To calculate the probability of getting more than or equal to  10 heads or less than or equal to 10 heads we will use the cumalative density function which lets us check the probability of achieving a number of successes within a certain range. "
   ]
  },
  {
   "cell_type": "code",
   "execution_count": 77,
   "metadata": {},
   "outputs": [
    {
     "name": "stdout",
     "output_type": "stream",
     "text": [
      "col_0   5   9   10  11  12\n",
      "row_0                     \n",
      "counts   2   2   3   2   1\n"
     ]
    },
    {
     "data": {
      "text/plain": [
       "array([[<matplotlib.axes._subplots.AxesSubplot object at 0x1a1b498cf8>]],\n",
       "      dtype=object)"
      ]
     },
     "execution_count": 77,
     "metadata": {},
     "output_type": "execute_result"
    },
    {
     "name": "stdout",
     "output_type": "stream",
     "text": [
      "10    0.3\n",
      "11    0.2\n",
      "9     0.2\n",
      "5     0.2\n",
      "12    0.1\n",
      "dtype: float64\n"
     ]
    },
    {
     "data": {
      "image/png": "[encoded data removed]",
      "text/plain": [
       "<Figure size 432x288 with 1 Axes>"
      ]
     },
     "metadata": {
      "needs_background": "light"
     },
     "output_type": "display_data"
    }
   ],
   "source": [
    "import matplotlib.pyplot as plt\n",
    "\n",
    "# 7) Repeat the trial 10 times and estimate the mean each time. \n",
    "# Using pandas.crosstab build the frequency table of the results. Plot the histogram of these ten estimates.\n",
    "\n",
    "coin_flips = stats.binom.rvs(n=15,        # Number of flips per trial\n",
    "                             p=0.6,       # Success probability\n",
    "                             size=10)     # Number of trials\n",
    "\n",
    "print(pd.crosstab(index=\"counts\", columns= coin_flips))\n",
    "\n",
    "# Plot histogram\n",
    "pd.DataFrame(coin_flips).hist(range=(0,16), bins=16)\n",
    "\n",
    "mean_table = pd.Series(sorted(coin_flips, reverse=True)).value_counts() / 10\n",
    "print(mean_table)\n"
   ]
  },
  {
   "cell_type": "code",
   "execution_count": 73,
   "metadata": {},
   "outputs": [
    {
     "name": "stdout",
     "output_type": "stream",
     "text": [
      "[[<matplotlib.axes._subplots.AxesSubplot object at 0x1a1bb56240>]]\n",
      "[[<matplotlib.axes._subplots.AxesSubplot object at 0x1a1c8b0ac8>]]\n",
      "[[<matplotlib.axes._subplots.AxesSubplot object at 0x1a1c931ba8>]]\n",
      "[[<matplotlib.axes._subplots.AxesSubplot object at 0x1a1d0475f8>]]\n",
      "[[<matplotlib.axes._subplots.AxesSubplot object at 0x1a1a7acac8>]]\n",
      "[[<matplotlib.axes._subplots.AxesSubplot object at 0x1a1acc1c18>]]\n",
      "[[<matplotlib.axes._subplots.AxesSubplot object at 0x1a1a80bd30>]]\n",
      "[[<matplotlib.axes._subplots.AxesSubplot object at 0x1a1a7ede80>]]\n",
      "[[<matplotlib.axes._subplots.AxesSubplot object at 0x1a1d074c18>]]\n",
      "[[<matplotlib.axes._subplots.AxesSubplot object at 0x1a1a76eda0>]]\n",
      "[[<matplotlib.axes._subplots.AxesSubplot object at 0x1a1ae6af60>]]\n",
      "[[<matplotlib.axes._subplots.AxesSubplot object at 0x1a1b8a0b70>]]\n",
      "[[<matplotlib.axes._subplots.AxesSubplot object at 0x1a1c834e10>]]\n",
      "[[<matplotlib.axes._subplots.AxesSubplot object at 0x1a1d10af60>]]\n",
      "[[<matplotlib.axes._subplots.AxesSubplot object at 0x1a1d15cfd0>]]\n",
      "[[<matplotlib.axes._subplots.AxesSubplot object at 0x1a1d1b0e80>]]\n",
      "[[<matplotlib.axes._subplots.AxesSubplot object at 0x1a1d2f2fd0>]]\n",
      "[[<matplotlib.axes._subplots.AxesSubplot object at 0x1a1d34f160>]]\n",
      "[[<matplotlib.axes._subplots.AxesSubplot object at 0x1a1d1915f8>]]\n"
     ]
    },
    {
     "data": {
      "image/png": "[encoded data removed]",
      "text/plain": [
       "<Figure size 432x288 with 1 Axes>"
      ]
     },
     "metadata": {
      "needs_background": "light"
     },
     "output_type": "display_data"
    },
    {
     "data": {
      "image/png": "[encoded data removed]",
      "text/plain": [
       "<Figure size 432x288 with 1 Axes>"
      ]
     },
     "metadata": {
      "needs_background": "light"
     },
     "output_type": "display_data"
    },
    {
     "data": {
      "image/png": "[encoded data removed]",
      "text/plain": [
       "<Figure size 432x288 with 1 Axes>"
      ]
     },
     "metadata": {
      "needs_background": "light"
     },
     "output_type": "display_data"
    },
    {
     "data": {
      "image/png": "[encoded data removed]",
      "text/plain": [
       "<Figure size 432x288 with 1 Axes>"
      ]
     },
     "metadata": {
      "needs_background": "light"
     },
     "output_type": "display_data"
    },
    {
     "data": {
      "image/png": "[encoded data removed]",
      "text/plain": [
       "<Figure size 432x288 with 1 Axes>"
      ]
     },
     "metadata": {
      "needs_background": "light"
     },
     "output_type": "display_data"
    },
    {
     "data": {
      "image/png": "[encoded data removed]",
      "text/plain": [
       "<Figure size 432x288 with 1 Axes>"
      ]
     },
     "metadata": {
      "needs_background": "light"
     },
     "output_type": "display_data"
    },
    {
     "data": {
      "image/png": "[encoded data removed]",
      "text/plain": [
       "<Figure size 432x288 with 1 Axes>"
      ]
     },
     "metadata": {
      "needs_background": "light"
     },
     "output_type": "display_data"
    },
    {
     "data": {
      "image/png": "[encoded data removed]",
      "text/plain": [
       "<Figure size 432x288 with 1 Axes>"
      ]
     },
     "metadata": {
      "needs_background": "light"
     },
     "output_type": "display_data"
    },
    {
     "data": {
      "image/png": "[encoded data removed]",
      "text/plain": [
       "<Figure size 432x288 with 1 Axes>"
      ]
     },
     "metadata": {
      "needs_background": "light"
     },
     "output_type": "display_data"
    },
    {
     "data": {
      "image/png": "[encoded data removed]",
      "text/plain": [
       "<Figure size 432x288 with 1 Axes>"
      ]
     },
     "metadata": {
      "needs_background": "light"
     },
     "output_type": "display_data"
    },
    {
     "data": {
      "image/png": "[encoded data removed]",
      "text/plain": [
       "<Figure size 432x288 with 1 Axes>"
      ]
     },
     "metadata": {
      "needs_background": "light"
     },
     "output_type": "display_data"
    },
    {
     "data": {
      "image/png": "[encoded data removed]",
      "text/plain": [
       "<Figure size 432x288 with 1 Axes>"
      ]
     },
     "metadata": {
      "needs_background": "light"
     },
     "output_type": "display_data"
    },
    {
     "data": {
      "image/png": "[encoded data removed]",
      "text/plain": [
       "<Figure size 432x288 with 1 Axes>"
      ]
     },
     "metadata": {
      "needs_background": "light"
     },
     "output_type": "display_data"
    },
    {
     "data": {
      "image/png": "[encoded data removed]",
      "text/plain": [
       "<Figure size 432x288 with 1 Axes>"
      ]
     },
     "metadata": {
      "needs_background": "light"
     },
     "output_type": "display_data"
    },
    {
     "data": {
      "image/png": "[encoded data removed]",
      "text/plain": [
       "<Figure size 432x288 with 1 Axes>"
      ]
     },
     "metadata": {
      "needs_background": "light"
     },
     "output_type": "display_data"
    },
    {
     "data": {
      "image/png": "[encoded data removed]",
      "text/plain": [
       "<Figure size 432x288 with 1 Axes>"
      ]
     },
     "metadata": {
      "needs_background": "light"
     },
     "output_type": "display_data"
    },
    {
     "data": {
      "image/png": "[encoded data removed]",
      "text/plain": [
       "<Figure size 432x288 with 1 Axes>"
      ]
     },
     "metadata": {
      "needs_background": "light"
     },
     "output_type": "display_data"
    },
    {
     "data": {
      "image/png": "[encoded data removed]",
      "text/plain": [
       "<Figure size 432x288 with 1 Axes>"
      ]
     },
     "metadata": {
      "needs_background": "light"
     },
     "output_type": "display_data"
    },
    {
     "data": {
      "image/png": "[encoded data removed]",
      "text/plain": [
       "<Figure size 432x288 with 1 Axes>"
      ]
     },
     "metadata": {
      "needs_background": "light"
     },
     "output_type": "display_data"
    }
   ],
   "source": [
    "# 8) Now, gradually increase the number of trials from 100 to 1000. Plot the histogram for the sample mean each time.\n",
    "# How does the sampling distribun of mean is changing?\n",
    "\n",
    "for i in range(100, 1001, 50):\n",
    "    coin_flips = stats.binom.rvs(n=15,        # Number of flips per trial\n",
    "                                 p=0.6,       # Success probability\n",
    "                                 size=i)      # Number of trials\n",
    "    \n",
    "    freq_tab = pd.crosstab(index=\"counts\", columns= coin_flips)\n",
    "    print(pd.DataFrame(coin_flips).hist(range=(0,16), bins=16));"
   ]
  },
  {
   "cell_type": "markdown",
   "metadata": {},
   "source": [
    "## Question 7\n",
    "Assume that for a study we want to sample people from the Montreal population. The target of the study is a particular disease. If the probability of sampling a person with this disease equals $0.007$. \n",
    "  1. How many people we need to sample totally in order to get exactly $73$ patients with the disease?\n",
    "  2. How many people we need to sample totally in order to have at least $73$ patients with the target disease?\n",
    "  3. What distribution is it and what are its parameters?\n",
    "  4. Callculate the expected value, variance, as well as the first, second and the third quantiles.\n",
    "   "
   ]
  },
  {
   "cell_type": "code",
   "execution_count": null,
   "metadata": {},
   "outputs": [],
   "source": []
  },
  {
   "cell_type": "markdown",
   "metadata": {},
   "source": [
    "## Question 8\n",
    "  1. Generate $1000$ data points according to the exponential distribution with parameter $\\lambda = 1.2$.\n",
    "  2. Estimate the mean of the sample.\n",
    "  3. Repeat the first step but each time increase the sample size up to $1000,000$. Calculate the sample mean each time. Scatterplot the mean versus the sample size for each repetition. Do you see any trend in the plot sample means? Can you guess the limit of the sample mean due to the plot?   \n"
   ]
  },
  {
   "cell_type": "code",
   "execution_count": 102,
   "metadata": {},
   "outputs": [
    {
     "name": "stdout",
     "output_type": "stream",
     "text": [
      "1.628805166271539\n"
     ]
    },
    {
     "data": {
      "image/png": "[encoded data removed]",
      "text/plain": [
       "<Figure size 432x288 with 1 Axes>"
      ]
     },
     "metadata": {
      "needs_background": "light"
     },
     "output_type": "display_data"
    }
   ],
   "source": [
    "import scipy.stats as stats\n",
    "import numpy as np\n",
    "import pandas as pd\n",
    "import math\n",
    "import random\n",
    "\n",
    "lamda = 1.2 \n",
    "\n",
    "mu, sigma = 1/lamda, 1/lamda     # Mean and Standard deviation\n",
    "sample_n = 1000\n",
    "sample_max = 1000000\n",
    "\n",
    "E_sample = stats.expon.rvs(loc = mu, scale = sigma, size = sample_n, random_state = 1231)\n",
    "E_sample_mean = E_sample.mean()\n",
    "print(E_sample_mean)\n",
    "\n",
    "\n",
    "E_means = []             # Make empty list to hold point estimates\n",
    "E_sample_nb = []         # Make empty list to hold sample sizes\n",
    "\n",
    "for sample_nb in range(sample_n, sample_max + 1, sample_n * 10):         # Generate 100 samples\n",
    "    E = stats.expon.rvs(loc = mu, scale = sigma, size = sample_nb, random_state = 1231)\n",
    "    E_means.append(E.mean())\n",
    "    E_sample_nb.append(sample_nb)\n",
    "\n",
    "plt.scatter(E_sample_nb, E_means)\n",
    "plt.title('Means Estimations versus Sample Sizes')\n",
    "plt.xlabel('Sample Sizes')\n",
    "plt.ylabel('Means');"
   ]
  },
  {
   "cell_type": "markdown",
   "metadata": {},
   "source": [
    "## Question 9\n",
    "<span style=\"color:red\">**Note:**</span> \n",
    "For this question you may need to **Google** in order to find commands necessary for some parts of the question. \n",
    "  1. Import `sklearn` library and from it import `datasets`. Aslso, set seed as in **Question 4**.\n",
    "  2. From `sklearn.datasets` load the dataset called \"Boston\". Read the documentaion of `sklearn.datasets` in order to understand the structure of datasets built in the library.\n",
    "  3. From the dataset `boston` extract the part called `data`. (`boston` is in the form of **dictionary** and includes different parts. You need to extract only the part called `data`)\n",
    "  4. Find the mean and standard deviation of each variable (=feature, column) in the data. \n",
    "  5. Assume the data you have are the whole population. Randomly sample $300$ entries from the $11$-th variable. Using this sample estimate estimate the population mean (whose true value is already calculated). \n",
    "  6. Provide a confidence interval with $95$% of confidence level. (To find the corresponding z-value you can use `stats.norm.ppf()`)\n",
    "  7. If you repeat Steps 5 and 6 above $20$ times, how many of these $20$ confidence intervals do you expect to include the true mean? Why?\n",
    "  8. Scatterplot the estimated means with their $95$% margins of error, as well as the true value of the mean. How many of the error margins include the true mean? Does it match with your answer to the previous step? If not, what is the reason in your opinion? \n",
    "  "
   ]
  },
  {
   "cell_type": "code",
   "execution_count": 138,
   "metadata": {},
   "outputs": [
    {
     "name": "stdout",
     "output_type": "stream",
     "text": [
      "(506, 13)\n",
      "        0     1     2    3      4      5     6       7    8      9     10  \\\n",
      "0  0.00632  18.0  2.31  0.0  0.538  6.575  65.2  4.0900  1.0  296.0  15.3   \n",
      "1  0.02731   0.0  7.07  0.0  0.469  6.421  78.9  4.9671  2.0  242.0  17.8   \n",
      "2  0.02729   0.0  7.07  0.0  0.469  7.185  61.1  4.9671  2.0  242.0  17.8   \n",
      "3  0.03237   0.0  2.18  0.0  0.458  6.998  45.8  6.0622  3.0  222.0  18.7   \n",
      "4  0.06905   0.0  2.18  0.0  0.458  7.147  54.2  6.0622  3.0  222.0  18.7   \n",
      "\n",
      "       11    12  \n",
      "0  396.90  4.98  \n",
      "1  396.90  9.14  \n",
      "2  392.83  4.03  \n",
      "3  394.63  2.94  \n",
      "4  396.90  5.33  \n",
      "               0           1           2           3           4           5   \\\n",
      "count  506.000000  506.000000  506.000000  506.000000  506.000000  506.000000   \n",
      "mean     3.613524   11.363636   11.136779    0.069170    0.554695    6.284634   \n",
      "std      8.601545   23.322453    6.860353    0.253994    0.115878    0.702617   \n",
      "min      0.006320    0.000000    0.460000    0.000000    0.385000    3.561000   \n",
      "25%      0.082045    0.000000    5.190000    0.000000    0.449000    5.885500   \n",
      "50%      0.256510    0.000000    9.690000    0.000000    0.538000    6.208500   \n",
      "75%      3.677083   12.500000   18.100000    0.000000    0.624000    6.623500   \n",
      "max     88.976200  100.000000   27.740000    1.000000    0.871000    8.780000   \n",
      "\n",
      "               6           7           8           9           10          11  \\\n",
      "count  506.000000  506.000000  506.000000  506.000000  506.000000  506.000000   \n",
      "mean    68.574901    3.795043    9.549407  408.237154   18.455534  356.674032   \n",
      "std     28.148861    2.105710    8.707259  168.537116    2.164946   91.294864   \n",
      "min      2.900000    1.129600    1.000000  187.000000   12.600000    0.320000   \n",
      "25%     45.025000    2.100175    4.000000  279.000000   17.400000  375.377500   \n",
      "50%     77.500000    3.207450    5.000000  330.000000   19.050000  391.440000   \n",
      "75%     94.075000    5.188425   24.000000  666.000000   20.200000  396.225000   \n",
      "max    100.000000   12.126500   24.000000  711.000000   22.000000  396.900000   \n",
      "\n",
      "               12  \n",
      "count  506.000000  \n",
      "mean    12.653063  \n",
      "std      7.141062  \n",
      "min      1.730000  \n",
      "25%      6.950000  \n",
      "50%     11.360000  \n",
      "75%     16.955000  \n",
      "max     37.970000  \n"
     ]
    },
    {
     "data": {
      "text/plain": [
       "mean    3.613524\n",
       "std     8.601545\n",
       "Name: 0, dtype: float64"
      ]
     },
     "execution_count": 138,
     "metadata": {},
     "output_type": "execute_result"
    }
   ],
   "source": [
    "from sklearn import datasets\n",
    "from sklearn.datasets import load_boston\n",
    "\n",
    "random.seed(1231)  \n",
    "\n",
    "boston = load_boston()\n",
    "print(boston.data.shape)\n",
    "\n",
    "data = pd.DataFrame(boston.data)\n",
    "print(data.head())\n",
    "\n",
    "x = data.describe()\n",
    "print(x)\n",
    "\n",
    "x[0][1:3]"
   ]
  },
  {
   "cell_type": "code",
   "execution_count": null,
   "metadata": {},
   "outputs": [],
   "source": []
  }
 ],
 "metadata": {
  "kernelspec": {
   "display_name": "Python 3",
   "language": "python",
   "name": "python3"
  },
  "language_info": {
   "codemirror_mode": {
    "name": "ipython",
    "version": 3
   },
   "file_extension": ".py",
   "mimetype": "text/x-python",
   "name": "python",
   "nbconvert_exporter": "python",
   "pygments_lexer": "ipython3",
   "version": "3.7.1"
  }
 },
 "nbformat": 4,
 "nbformat_minor": 2
}
